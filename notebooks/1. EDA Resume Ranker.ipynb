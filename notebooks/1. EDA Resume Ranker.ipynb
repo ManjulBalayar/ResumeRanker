{
 "cells": [
  {
   "cell_type": "markdown",
   "id": "cbf3f91e",
   "metadata": {},
   "source": [
    "# Resume Ranker Exploratory Data Analysis"
   ]
  },
  {
   "cell_type": "markdown",
   "id": "b4d3a54a",
   "metadata": {},
   "source": [
    "## 1. Problem Statement\n",
    "\n",
    "For this project, I am trying to rank different resumes based on a job description and rank them. "
   ]
  }
 ],
 "metadata": {
  "language_info": {
   "name": "python"
  }
 },
 "nbformat": 4,
 "nbformat_minor": 5
}
